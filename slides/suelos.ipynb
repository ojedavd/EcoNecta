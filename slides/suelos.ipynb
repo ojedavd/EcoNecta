{
  "cells": [
    {
      "cell_type": "code",
      "source": [
        "import pandas as pd\n",
        "from sklearn.ensemble import RandomForestRegressor\n",
        "from sklearn.model_selection import train_test_split\n",
        "from sklearn.preprocessing import LabelEncoder\n",
        "from sklearn.metrics import mean_squared_error\n",
        "import joblib\n",
        "\n",
        "# Cargar los datos\n",
        "data = pd.read_csv('datos_suelo.csv') \n",
        "\n",
        "# Convertir la fecha a un formato numérico adecuado\n",
        "data['Date'] = pd.to_datetime(data['Date'])\n",
        "data['Day'] = data['Date'].dt.day\n",
        "data['Month'] = data['Date'].dt.month\n",
        "data['Year'] = data['Date'].dt.year\n",
        "\n",
        "# Codificar la ubicación (ciudad) como valores numéricos\n",
        "label_encoder = LabelEncoder()\n",
        "data['Location'] = label_encoder.fit_transform(data['Location'])\n",
        "\n",
        "# Seleccionar las características y el objetivo\n",
        "X = data[['Day', 'Month', 'Year', 'Location']]\n",
        "y_N = data['Nitrogen (N)']\n",
        "y_P = data['Phosphorus (P)']\n",
        "y_K = data['Potassium (K)']\n",
        "y_pH = data['pH']\n",
        "\n",
        "# Dividir los datos en conjuntos de entrenamiento y prueba\n",
        "X_train, X_test, y_N_train, y_N_test = train_test_split(X, y_N, test_size=0.2, random_state=42)\n",
        "_, _, y_P_train, y_P_test = train_test_split(X, y_P, test_size=0.2, random_state=42)\n",
        "_, _, y_K_train, y_K_test = train_test_split(X, y_K, test_size=0.2, random_state=42)\n",
        "_, _, y_pH_train, y_pH_test = train_test_split(X, y_pH, test_size=0.2, random_state=42)\n",
        "\n",
        "# Entrenar modelos de Random Forest para cada variable\n",
        "model_N = RandomForestRegressor(random_state=42)\n",
        "model_P = RandomForestRegressor(random_state=42)\n",
        "model_K = RandomForestRegressor(random_state=42)\n",
        "model_pH = RandomForestRegressor(random_state=42)\n",
        "\n",
        "model_N.fit(X_train, y_N_train)\n",
        "model_P.fit(X_train, y_P_train)\n",
        "model_K.fit(X_train, y_K_train)\n",
        "model_pH.fit(X_train, y_pH_train)\n",
        "\n",
        "# Evaluar los modelos\n",
        "print(\"Error cuadrático medio para N:\", mean_squared_error(y_N_test, model_N.predict(X_test)))\n",
        "print(\"Error cuadrático medio para P:\", mean_squared_error(y_P_test, model_P.predict(X_test)))\n",
        "print(\"Error cuadrático medio para K:\", mean_squared_error(y_K_test, model_K.predict(X_test)))\n",
        "print(\"Error cuadrático medio para pH:\", mean_squared_error(y_pH_test, model_pH.predict(X_test)))\n",
        "\n",
        "# Guardar los modelos\n",
        "joblib.dump(model_N, 'model_N.joblib')\n",
        "joblib.dump(model_P, 'model_P.joblib')\n",
        "joblib.dump(model_K, 'model_K.joblib')\n",
        "joblib.dump(model_pH, 'model_pH.joblib')\n",
        "\n",
        "# Función para realizar predicciones\n",
        "def predecir_nutrientes(ciudad, fecha):\n",
        "    fecha = pd.to_datetime(fecha)\n",
        "    dia, mes, año = fecha.day, fecha.month, fecha.year\n",
        "    ciudad_codificada = label_encoder.transform([ciudad])[0]\n",
        "    X_nueva = [[dia, mes, año, ciudad_codificada]]\n",
        "\n",
        "    pred_N = model_N.predict(X_nueva)[0]\n",
        "    pred_P = model_P.predict(X_nueva)[0]\n",
        "    pred_K = model_K.predict(X_nueva)[0]\n",
        "    pred_pH = model_pH.predict(X_nueva)[0]\n",
        "\n",
        "    return {\n",
        "        \"Nitrogen (N)\": pred_N,\n",
        "        \"Phosphorus (P)\": pred_P,\n",
        "        \"Potassium (K)\": pred_K,\n",
        "        \"pH\": pred_pH\n",
        "    }\n",
        "\n",
        "# Ejemplo de uso\n",
        "ciudad = \"Fresno\"\n",
        "fecha = \"2024-11-01\"\n",
        "prediccion = predecir_nutrientes(ciudad, fecha)\n",
        "print(\"Predicción:\", prediccion)\n"
      ],
      "outputs": [
        {
          "output_type": "stream",
          "name": "stdout",
          "text": "Error cuadrático medio para N: 79.07299559384606\nError cuadrático medio para P: 14.198662571282043\nError cuadrático medio para K: 2757.5265106315337\nError cuadrático medio para pH: 0.5178119469230772\nPredicción: {'Nitrogen (N)': 19.06029999999997, 'Phosphorus (P)': 11.195700000000015, 'Potassium (K)': 213.19729999999998, 'pH': 6.2651999999999894}\n"
        },
        {
          "output_type": "stream",
          "name": "stderr",
          "text": "/anaconda/envs/azureml_py310_sdkv2/lib/python3.10/site-packages/sklearn/base.py:493: UserWarning: X does not have valid feature names, but RandomForestRegressor was fitted with feature names\n  warnings.warn(\n/anaconda/envs/azureml_py310_sdkv2/lib/python3.10/site-packages/sklearn/base.py:493: UserWarning: X does not have valid feature names, but RandomForestRegressor was fitted with feature names\n  warnings.warn(\n/anaconda/envs/azureml_py310_sdkv2/lib/python3.10/site-packages/sklearn/base.py:493: UserWarning: X does not have valid feature names, but RandomForestRegressor was fitted with feature names\n  warnings.warn(\n/anaconda/envs/azureml_py310_sdkv2/lib/python3.10/site-packages/sklearn/base.py:493: UserWarning: X does not have valid feature names, but RandomForestRegressor was fitted with feature names\n  warnings.warn(\n"
        }
      ],
      "execution_count": 2,
      "metadata": {
        "gather": {
          "logged": 1730514364844
        }
      }
    },
    {
      "cell_type": "code",
      "source": [
        "!pip install joblib"
      ],
      "outputs": [
        {
          "output_type": "stream",
          "name": "stdout",
          "text": "Requirement already satisfied: joblib in /anaconda/envs/azureml_py38/lib/python3.10/site-packages (1.2.0)\r\n"
        }
      ],
      "execution_count": 3,
      "metadata": {
        "jupyter": {
          "source_hidden": false,
          "outputs_hidden": false
        },
        "nteract": {
          "transient": {
            "deleting": false
          }
        }
      }
    },
    {
      "cell_type": "code",
      "source": [
        "import joblib\n",
        "\n",
        "# Guardar los modelos entrenados en archivos .joblib\n",
        "joblib.dump(model_N, 'model_N.joblib')\n",
        "joblib.dump(model_P, 'model_P.joblib')\n",
        "joblib.dump(model_K, 'model_K.joblib')\n",
        "joblib.dump(model_pH, 'model_pH.joblib')"
      ],
      "outputs": [
        {
          "output_type": "execute_result",
          "execution_count": 5,
          "data": {
            "text/plain": "['model_pH.joblib']"
          },
          "metadata": {}
        }
      ],
      "execution_count": 5,
      "metadata": {
        "jupyter": {
          "source_hidden": false,
          "outputs_hidden": false
        },
        "nteract": {
          "transient": {
            "deleting": false
          }
        },
        "gather": {
          "logged": 1730514516170
        }
      }
    }
  ],
  "metadata": {
    "kernelspec": {
      "name": "python310-sdkv2",
      "language": "python",
      "display_name": "Python 3.10 - SDK v2"
    },
    "language_info": {
      "name": "python",
      "version": "3.10.14",
      "mimetype": "text/x-python",
      "codemirror_mode": {
        "name": "ipython",
        "version": 3
      },
      "pygments_lexer": "ipython3",
      "nbconvert_exporter": "python",
      "file_extension": ".py"
    },
    "microsoft": {
      "ms_spell_check": {
        "ms_spell_check_language": "en"
      },
      "host": {
        "AzureML": {
          "notebookHasBeenCompleted": true
        }
      }
    },
    "kernel_info": {
      "name": "python310-sdkv2"
    },
    "nteract": {
      "version": "nteract-front-end@1.0.0"
    }
  },
  "nbformat": 4,
  "nbformat_minor": 2
}