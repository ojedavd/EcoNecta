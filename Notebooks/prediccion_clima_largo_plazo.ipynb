{
  "cells": [
    {
      "cell_type": "code",
      "source": [
        "!pip install pandas scikit-learn"
      ],
      "outputs": [],
      "execution_count": null,
      "metadata": {
        "jupyter": {
          "source_hidden": false,
          "outputs_hidden": false
        },
        "nteract": {
          "transient": {
            "deleting": false
          }
        }
      }
    },
    {
      "cell_type": "code",
      "source": [
        "import pandas as pd\n",
        "import numpy as np\n",
        "from sklearn.model_selection import train_test_split\n",
        "from sklearn.ensemble import RandomForestRegressor\n",
        "\n",
        "# Función para preparar los datos diarios\n",
        "def preparar_datos(fecha_inicio):\n",
        "    # Crear un rango de fechas de seis meses desde la fecha de inicio\n",
        "    fecha_inicio = pd.to_datetime(fecha_inicio)\n",
        "    fechas = pd.date_range(start=fecha_inicio, periods=6 * 30, freq='D')\n",
        "    \n",
        "    # Crear un DataFrame con las fechas y datos simulados\n",
        "    datos = pd.DataFrame({'datetime': fechas})\n",
        "    datos['year'] = datos['datetime'].dt.year\n",
        "    datos['month'] = datos['datetime'].dt.month\n",
        "    datos['day'] = datos['datetime'].dt.day\n",
        "\n",
        "    # Simular datos de temperatura, humedad y precipitación\n",
        "    datos['temp'] = 20 + 5 * np.sin(datos.index * 0.1)\n",
        "    datos['humidity'] = 50 + 10 * np.cos(datos.index * 0.1)\n",
        "    datos['precip'] = np.random.rand(len(datos))\n",
        "\n",
        "    return datos\n",
        "\n",
        "# Función para entrenar y devolver los modelos y predicciones\n",
        "def entrenar_predecir(fecha_inicio):\n",
        "    datos_intervalo = preparar_datos(fecha_inicio)\n",
        "\n",
        "    # Seleccionar las características relevantes\n",
        "    X = datos_intervalo[['temp', 'humidity', 'precip']].fillna(0)\n",
        "\n",
        "    # Variables objetivo\n",
        "    y_humedad = datos_intervalo['humidity']\n",
        "    y_precip = datos_intervalo['precip']\n",
        "    y_drought = (datos_intervalo['precip'] < 1).astype(int)\n",
        "\n",
        "    # Dividir el conjunto de datos\n",
        "    X_train, X_test, y_train_humedad, _ = train_test_split(X, y_humedad, test_size=0.2, random_state=42)\n",
        "    X_train_precip, X_test_precip, y_train_precip, _ = train_test_split(X, y_precip, test_size=0.2, random_state=42)\n",
        "    X_train_drought, X_test_drought, y_train_drought, _ = train_test_split(X, y_drought, test_size=0.2, random_state=42)\n",
        "\n",
        "    # Entrenar los modelos\n",
        "    modelo_humidity = RandomForestRegressor(n_estimators=100, random_state=42)\n",
        "    modelo_humidity.fit(X_train, y_train_humedad)\n",
        "\n",
        "    modelo_precip = RandomForestRegressor(n_estimators=100, random_state=42)\n",
        "    modelo_precip.fit(X_train_precip, y_train_precip)\n",
        "\n",
        "    modelo_drought = RandomForestRegressor(n_estimators=100, random_state=42)\n",
        "    modelo_drought.fit(X_train_drought, y_train_drought)\n",
        "\n",
        "    # Obtener predicciones\n",
        "    pred_humedad = modelo_humidity.predict(X)\n",
        "    pred_precip = modelo_precip.predict(X)\n",
        "    pred_drought = modelo_drought.predict(X)\n",
        "    \n",
        "    # Consolidar datos y predicciones en un solo DataFrame\n",
        "    datos_predicciones = pd.DataFrame({\n",
        "        'Fecha': datos_intervalo['datetime'],\n",
        "        'temperature': datos_intervalo['temp'],    # Valor real\n",
        "        'humidity': pred_humedad,                  # Predicción\n",
        "        'rainfall': pred_precip,                   # Predicción\n",
        "        'drought': pred_drought                    # Predicción\n",
        "    })\n",
        "    \n",
        "    return datos_predicciones\n",
        "\n",
        "# Ejemplo de ejecución para verificar el modelo de clima\n",
        "fecha_prueba = '2024-11-01'\n",
        "datos_predicciones = entrenar_predecir(fecha_prueba)\n",
        "print(datos_predicciones.head())  # Mostrar las primeras filas para ver el formato"
      ],
      "outputs": [],
      "execution_count": null,
      "metadata": {
        "gather": {
          "logged": 1730497791821
        }
      }
    },
    {
      "cell_type": "code",
      "source": [
        "# Ejemplo para probar el envío de datos con una fecha específica\n",
        "fecha_prueba = '2024-11-01'  # Cambia esta fecha para probar con otras\n",
        "datos_intervalo, pred_humedad, pred_precip, pred_drought = entrenar_predecir(fecha_prueba)\n",
        "\n",
        "# Mostrar las primeras filas de la tabla de resultados para verificar\n",
        "crear_tabla_resultados(datos_intervalo, pred_humedad, pred_precip, pred_drought)\n"
      ],
      "outputs": [],
      "execution_count": null,
      "metadata": {
        "jupyter": {
          "source_hidden": false,
          "outputs_hidden": false
        },
        "nteract": {
          "transient": {
            "deleting": false
          }
        },
        "gather": {
          "logged": 1730497781778
        }
      }
    },
    {
      "cell_type": "code",
      "source": [
        "import joblib\n",
        "\n",
        "# Función para guardar los modelos entrenados\n",
        "def guardar_modelos(modelo_humidity, modelo_precip, modelo_drought):\n",
        "    # Guardar los modelos en archivos .pkl\n",
        "    joblib.dump(modelo_humidity, 'modelo_humidity_V2.pkl')\n",
        "    joblib.dump(modelo_precip, 'modelo_precip.pkl_V2')\n",
        "    joblib.dump(modelo_drought, 'modelo_drought_V2.pkl')\n",
        "    print(\"Modelos guardados exitosamente.\")\n",
        "\n",
        "# Entrenar los modelos y guardar\n",
        "fecha_prueba = '2024-11-01'\n",
        "datos_intervalo, pred_humedad, pred_precip, pred_drought = entrenar_predecir(fecha_prueba)\n",
        "\n",
        "# Llama a la función para guardar los modelos\n",
        "guardar_modelos(modelo_humidity, modelo_precip, modelo_drought)\n"
      ],
      "outputs": [],
      "execution_count": null,
      "metadata": {
        "jupyter": {
          "source_hidden": false,
          "outputs_hidden": false
        },
        "nteract": {
          "transient": {
            "deleting": false
          }
        },
        "gather": {
          "logged": 1730494869523
        }
      }
    }
  ],
  "metadata": {
    "kernelspec": {
      "name": "python310-sdkv2",
      "language": "python",
      "display_name": "Python 3.10 - SDK v2"
    },
    "language_info": {
      "name": "python",
      "version": "3.10.14",
      "mimetype": "text/x-python",
      "codemirror_mode": {
        "name": "ipython",
        "version": 3
      },
      "pygments_lexer": "ipython3",
      "nbconvert_exporter": "python",
      "file_extension": ".py"
    },
    "microsoft": {
      "ms_spell_check": {
        "ms_spell_check_language": "en"
      },
      "host": {
        "AzureML": {
          "notebookHasBeenCompleted": true
        }
      }
    },
    "kernel_info": {
      "name": "python310-sdkv2"
    },
    "nteract": {
      "version": "nteract-front-end@1.0.0"
    }
  },
  "nbformat": 4,
  "nbformat_minor": 2
}
