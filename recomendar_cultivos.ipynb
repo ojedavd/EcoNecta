{
  "cells": [
    {
      "cell_type": "code",
      "source": [
        "!pip install pandas scikit-learn joblib\n",
        "!pip install geopandas\n",
        "!pip install scikit-learn"
      ],
      "outputs": [
        {
          "output_type": "stream",
          "name": "stdout",
          "text": "Requirement already satisfied: pandas in /anaconda/envs/azureml_py38/lib/python3.10/site-packages (2.2.3)\nRequirement already satisfied: scikit-learn in /anaconda/envs/azureml_py38/lib/python3.10/site-packages (1.5.1)\nRequirement already satisfied: joblib in /anaconda/envs/azureml_py38/lib/python3.10/site-packages (1.2.0)\nRequirement already satisfied: pytz>=2020.1 in /anaconda/envs/azureml_py38/lib/python3.10/site-packages (from pandas) (2022.5)\nRequirement already satisfied: tzdata>=2022.7 in /anaconda/envs/azureml_py38/lib/python3.10/site-packages (from pandas) (2024.1)\nRequirement already satisfied: python-dateutil>=2.8.2 in /anaconda/envs/azureml_py38/lib/python3.10/site-packages (from pandas) (2.9.0.post0)\nRequirement already satisfied: numpy>=1.22.4 in /anaconda/envs/azureml_py38/lib/python3.10/site-packages (from pandas) (1.23.5)\nRequirement already satisfied: scipy>=1.6.0 in /anaconda/envs/azureml_py38/lib/python3.10/site-packages (from scikit-learn) (1.10.1)\nRequirement already satisfied: threadpoolctl>=3.1.0 in /anaconda/envs/azureml_py38/lib/python3.10/site-packages (from scikit-learn) (3.5.0)\nRequirement already satisfied: six>=1.5 in /anaconda/envs/azureml_py38/lib/python3.10/site-packages (from python-dateutil>=2.8.2->pandas) (1.16.0)\nRequirement already satisfied: geopandas in /anaconda/envs/azureml_py38/lib/python3.10/site-packages (1.0.1)\nRequirement already satisfied: packaging in /anaconda/envs/azureml_py38/lib/python3.10/site-packages (from geopandas) (24.1)\nRequirement already satisfied: pyproj>=3.3.0 in /anaconda/envs/azureml_py38/lib/python3.10/site-packages (from geopandas) (3.7.0)\nRequirement already satisfied: pyogrio>=0.7.2 in /anaconda/envs/azureml_py38/lib/python3.10/site-packages (from geopandas) (0.10.0)\nRequirement already satisfied: numpy>=1.22 in /anaconda/envs/azureml_py38/lib/python3.10/site-packages (from geopandas) (1.23.5)\nRequirement already satisfied: pandas>=1.4.0 in /anaconda/envs/azureml_py38/lib/python3.10/site-packages (from geopandas) (2.2.3)\nRequirement already satisfied: shapely>=2.0.0 in /anaconda/envs/azureml_py38/lib/python3.10/site-packages (from geopandas) (2.0.6)\nRequirement already satisfied: pytz>=2020.1 in /anaconda/envs/azureml_py38/lib/python3.10/site-packages (from pandas>=1.4.0->geopandas) (2022.5)\nRequirement already satisfied: tzdata>=2022.7 in /anaconda/envs/azureml_py38/lib/python3.10/site-packages (from pandas>=1.4.0->geopandas) (2024.1)\nRequirement already satisfied: python-dateutil>=2.8.2 in /anaconda/envs/azureml_py38/lib/python3.10/site-packages (from pandas>=1.4.0->geopandas) (2.9.0.post0)\nRequirement already satisfied: certifi in /anaconda/envs/azureml_py38/lib/python3.10/site-packages (from pyogrio>=0.7.2->geopandas) (2024.8.30)\nRequirement already satisfied: six>=1.5 in /anaconda/envs/azureml_py38/lib/python3.10/site-packages (from python-dateutil>=2.8.2->pandas>=1.4.0->geopandas) (1.16.0)\nRequirement already satisfied: scikit-learn in /anaconda/envs/azureml_py38/lib/python3.10/site-packages (1.5.1)\nRequirement already satisfied: numpy>=1.19.5 in /anaconda/envs/azureml_py38/lib/python3.10/site-packages (from scikit-learn) (1.23.5)\nRequirement already satisfied: scipy>=1.6.0 in /anaconda/envs/azureml_py38/lib/python3.10/site-packages (from scikit-learn) (1.10.1)\nRequirement already satisfied: joblib>=1.2.0 in /anaconda/envs/azureml_py38/lib/python3.10/site-packages (from scikit-learn) (1.2.0)\nRequirement already satisfied: threadpoolctl>=3.1.0 in /anaconda/envs/azureml_py38/lib/python3.10/site-packages (from scikit-learn) (3.5.0)\n"
        }
      ],
      "execution_count": 1,
      "metadata": {}
    },
    {
      "cell_type": "code",
      "source": [
        "import pandas as pd\n",
        "import numpy as np\n",
        "from sklearn.model_selection import train_test_split\n",
        "from sklearn.ensemble import RandomForestRegressor, RandomForestClassifier\n",
        "from sklearn.metrics import accuracy_score\n",
        "import joblib\n",
        "\n",
        "# Función para preparar los datos diarios\n",
        "def preparar_datos(fecha_inicio):\n",
        "    # Crear un rango de fechas de seis meses desde la fecha de inicio\n",
        "    fecha_inicio = pd.to_datetime(fecha_inicio)\n",
        "    fechas = pd.date_range(start=fecha_inicio, periods=6 * 30, freq='D')\n",
        "    \n",
        "    # Crear un DataFrame con las fechas y datos simulados\n",
        "    datos = pd.DataFrame({'datetime': fechas})\n",
        "    datos['year'] = datos['datetime'].dt.year\n",
        "    datos['month'] = datos['datetime'].dt.month\n",
        "    datos['day'] = datos['datetime'].dt.day\n",
        "\n",
        "    # Simular datos de temperatura, humedad y precipitación\n",
        "    datos['temp'] = 20 + 5 * np.sin(datos.index * 0.1)\n",
        "    datos['humidity'] = 50 + 10 * np.cos(datos.index * 0.1)\n",
        "    datos['precip'] = np.random.rand(len(datos))\n",
        "\n",
        "    return datos\n",
        "\n",
        "# Función para entrenar y devolver los modelos y predicciones\n",
        "def entrenar_predecir(fecha_inicio):\n",
        "    datos_intervalo = preparar_datos(fecha_inicio)\n",
        "\n",
        "    # Seleccionar las características relevantes\n",
        "    X = datos_intervalo[['temp', 'humidity', 'precip']].fillna(0)\n",
        "\n",
        "    # Variables objetivo\n",
        "    y_humedad = datos_intervalo['humidity']\n",
        "    y_precip = datos_intervalo['precip']\n",
        "    y_drought = (datos_intervalo['precip'] < 1).astype(int)\n",
        "\n",
        "    # Dividir el conjunto de datos\n",
        "    X_train, X_test, y_train_humedad, _ = train_test_split(X, y_humedad, test_size=0.2, random_state=42)\n",
        "    X_train_precip, X_test_precip, y_train_precip, _ = train_test_split(X, y_precip, test_size=0.2, random_state=42)\n",
        "    X_train_drought, X_test_drought, y_train_drought, _ = train_test_split(X, y_drought, test_size=0.2, random_state=42)\n",
        "\n",
        "    # Entrenar los modelos\n",
        "    modelo_humidity = RandomForestRegressor(n_estimators=100, random_state=42)\n",
        "    modelo_humidity.fit(X_train, y_train_humedad)\n",
        "\n",
        "    modelo_precip = RandomForestRegressor(n_estimators=100, random_state=42)\n",
        "    modelo_precip.fit(X_train_precip, y_train_precip)\n",
        "\n",
        "    modelo_drought = RandomForestRegressor(n_estimators=100, random_state=42)\n",
        "    modelo_drought.fit(X_train_drought, y_train_drought)\n",
        "\n",
        "    # Obtener predicciones\n",
        "    pred_humedad = modelo_humidity.predict(X)\n",
        "    pred_precip = modelo_precip.predict(X)\n",
        "    pred_drought = modelo_drought.predict(X)\n",
        "    \n",
        "    return datos_intervalo, pred_humedad, pred_precip, pred_drought\n",
        "\n",
        "# Función para mostrar una tabla de resultados\n",
        "def crear_tabla_resultados(datos_intervalo, pred_humedad, pred_precip, pred_drought):\n",
        "    tabla_resultados = pd.DataFrame({\n",
        "        'Fecha': datos_intervalo['datetime'],\n",
        "        'Humedad Real': datos_intervalo['humidity'],\n",
        "        'Humedad Predicción': pred_humedad,\n",
        "        'Precipitación Real': datos_intervalo['precip'],\n",
        "        'Precipitación Predicción': pred_precip,\n",
        "        'Sequía Real': (datos_intervalo['precip'] < 1).astype(int),\n",
        "        'Sequía Predicción': pred_drought\n",
        "    })\n",
        "    \n",
        "    return tabla_resultados\n",
        "\n",
        "# Función para recomendar cultivos\n",
        "def recomendar_cultivo(datos_climaticos, N, P, K, pH):\n",
        "    # Filtrar o preparar datos para el modelo de recomendación\n",
        "    X_recomendacion = pd.DataFrame({\n",
        "        'N': [N],\n",
        "        'P': [P],\n",
        "        'K': [K],\n",
        "        'Temperature': [datos_climaticos['Humedad Real'].mean()],  # Usar media o un valor representativo\n",
        "        'Humidity': [datos_climaticos['Humedad Real'].mean()],      # Usar media o un valor representativo\n",
        "        'pH': [pH],\n",
        "        'Rainfall': [datos_climaticos['Precipitación Real'].mean()] # Usar media o un valor representativo\n",
        "    })\n",
        "\n",
        "    # Cargar el modelo de recomendación de cultivos\n",
        "    modelo_cultivo = joblib.load('modelo_cultivo.pkl')\n",
        "    \n",
        "    # Hacer predicciones\n",
        "    recomendaciones = modelo_cultivo.predict(X_recomendacion)\n",
        "    return recomendaciones\n",
        "\n",
        "# Ejemplo para probar el envío de datos con una fecha específica\n",
        "fecha_prueba = '2019-01-01'  # Cambiar a una fecha de prueba válida\n",
        "datos_intervalo, pred_humedad, pred_precip, pred_drought = entrenar_predecir(fecha_prueba)\n",
        "\n",
        "# Crear la tabla de resultados\n",
        "datos_predicciones = crear_tabla_resultados(datos_intervalo, pred_humedad, pred_precip, pred_drought)\n",
        "\n",
        "# Ejemplo de uso con valores constantes de nutrientes y pH\n",
        "N_val, P_val, K_val, ph_val = 90, 40, 40, 6.5\n",
        "recomendaciones_finales = recomendar_cultivo(datos_predicciones, N_val, P_val, K_val, ph_val)\n",
        "\n",
        "# Mostrar las recomendaciones finales\n",
        "print(recomendaciones_finales)"
      ],
      "outputs": [
        {
          "output_type": "error",
          "ename": "ValueError",
          "evalue": "The feature names should match those that were passed during fit.\nFeature names unseen at fit time:\n- Humidity\n- Rainfall\n- Temperature\n- pH\nFeature names seen at fit time, yet now missing:\n- humidity\n- ph\n- rainfall\n- temperature\n",
          "traceback": [
            "\u001b[0;31m---------------------------------------------------------------------------\u001b[0m",
            "\u001b[0;31mValueError\u001b[0m                                Traceback (most recent call last)",
            "Cell \u001b[0;32mIn[9], line 104\u001b[0m\n\u001b[1;32m    102\u001b[0m \u001b[38;5;66;03m# Ejemplo de uso con valores constantes de nutrientes y pH\u001b[39;00m\n\u001b[1;32m    103\u001b[0m N_val, P_val, K_val, ph_val \u001b[38;5;241m=\u001b[39m \u001b[38;5;241m90\u001b[39m, \u001b[38;5;241m40\u001b[39m, \u001b[38;5;241m40\u001b[39m, \u001b[38;5;241m6.5\u001b[39m\n\u001b[0;32m--> 104\u001b[0m recomendaciones_finales \u001b[38;5;241m=\u001b[39m \u001b[43mrecomendar_cultivo\u001b[49m\u001b[43m(\u001b[49m\u001b[43mdatos_predicciones\u001b[49m\u001b[43m,\u001b[49m\u001b[43m \u001b[49m\u001b[43mN_val\u001b[49m\u001b[43m,\u001b[49m\u001b[43m \u001b[49m\u001b[43mP_val\u001b[49m\u001b[43m,\u001b[49m\u001b[43m \u001b[49m\u001b[43mK_val\u001b[49m\u001b[43m,\u001b[49m\u001b[43m \u001b[49m\u001b[43mph_val\u001b[49m\u001b[43m)\u001b[49m\n\u001b[1;32m    106\u001b[0m \u001b[38;5;66;03m# Mostrar las recomendaciones finales\u001b[39;00m\n\u001b[1;32m    107\u001b[0m \u001b[38;5;28mprint\u001b[39m(recomendaciones_finales)\n",
            "Cell \u001b[0;32mIn[9], line 92\u001b[0m, in \u001b[0;36mrecomendar_cultivo\u001b[0;34m(datos_climaticos, N, P, K, pH)\u001b[0m\n\u001b[1;32m     89\u001b[0m modelo_cultivo \u001b[38;5;241m=\u001b[39m joblib\u001b[38;5;241m.\u001b[39mload(\u001b[38;5;124m'\u001b[39m\u001b[38;5;124mmodelo_cultivo.pkl\u001b[39m\u001b[38;5;124m'\u001b[39m)\n\u001b[1;32m     91\u001b[0m \u001b[38;5;66;03m# Hacer predicciones\u001b[39;00m\n\u001b[0;32m---> 92\u001b[0m recomendaciones \u001b[38;5;241m=\u001b[39m \u001b[43mmodelo_cultivo\u001b[49m\u001b[38;5;241;43m.\u001b[39;49m\u001b[43mpredict\u001b[49m\u001b[43m(\u001b[49m\u001b[43mX_recomendacion\u001b[49m\u001b[43m)\u001b[49m\n\u001b[1;32m     93\u001b[0m \u001b[38;5;28;01mreturn\u001b[39;00m recomendaciones\n",
            "File \u001b[0;32m/anaconda/envs/azureml_py38/lib/python3.10/site-packages/sklearn/ensemble/_forest.py:904\u001b[0m, in \u001b[0;36mForestClassifier.predict\u001b[0;34m(self, X)\u001b[0m\n\u001b[1;32m    883\u001b[0m \u001b[38;5;28;01mdef\u001b[39;00m \u001b[38;5;21mpredict\u001b[39m(\u001b[38;5;28mself\u001b[39m, X):\n\u001b[1;32m    884\u001b[0m \u001b[38;5;250m    \u001b[39m\u001b[38;5;124;03m\"\"\"\u001b[39;00m\n\u001b[1;32m    885\u001b[0m \u001b[38;5;124;03m    Predict class for X.\u001b[39;00m\n\u001b[1;32m    886\u001b[0m \n\u001b[0;32m   (...)\u001b[0m\n\u001b[1;32m    902\u001b[0m \u001b[38;5;124;03m        The predicted classes.\u001b[39;00m\n\u001b[1;32m    903\u001b[0m \u001b[38;5;124;03m    \"\"\"\u001b[39;00m\n\u001b[0;32m--> 904\u001b[0m     proba \u001b[38;5;241m=\u001b[39m \u001b[38;5;28;43mself\u001b[39;49m\u001b[38;5;241;43m.\u001b[39;49m\u001b[43mpredict_proba\u001b[49m\u001b[43m(\u001b[49m\u001b[43mX\u001b[49m\u001b[43m)\u001b[49m\n\u001b[1;32m    906\u001b[0m     \u001b[38;5;28;01mif\u001b[39;00m \u001b[38;5;28mself\u001b[39m\u001b[38;5;241m.\u001b[39mn_outputs_ \u001b[38;5;241m==\u001b[39m \u001b[38;5;241m1\u001b[39m:\n\u001b[1;32m    907\u001b[0m         \u001b[38;5;28;01mreturn\u001b[39;00m \u001b[38;5;28mself\u001b[39m\u001b[38;5;241m.\u001b[39mclasses_\u001b[38;5;241m.\u001b[39mtake(np\u001b[38;5;241m.\u001b[39margmax(proba, axis\u001b[38;5;241m=\u001b[39m\u001b[38;5;241m1\u001b[39m), axis\u001b[38;5;241m=\u001b[39m\u001b[38;5;241m0\u001b[39m)\n",
            "File \u001b[0;32m/anaconda/envs/azureml_py38/lib/python3.10/site-packages/sklearn/ensemble/_forest.py:946\u001b[0m, in \u001b[0;36mForestClassifier.predict_proba\u001b[0;34m(self, X)\u001b[0m\n\u001b[1;32m    944\u001b[0m check_is_fitted(\u001b[38;5;28mself\u001b[39m)\n\u001b[1;32m    945\u001b[0m \u001b[38;5;66;03m# Check data\u001b[39;00m\n\u001b[0;32m--> 946\u001b[0m X \u001b[38;5;241m=\u001b[39m \u001b[38;5;28;43mself\u001b[39;49m\u001b[38;5;241;43m.\u001b[39;49m\u001b[43m_validate_X_predict\u001b[49m\u001b[43m(\u001b[49m\u001b[43mX\u001b[49m\u001b[43m)\u001b[49m\n\u001b[1;32m    948\u001b[0m \u001b[38;5;66;03m# Assign chunk of trees to jobs\u001b[39;00m\n\u001b[1;32m    949\u001b[0m n_jobs, _, _ \u001b[38;5;241m=\u001b[39m _partition_estimators(\u001b[38;5;28mself\u001b[39m\u001b[38;5;241m.\u001b[39mn_estimators, \u001b[38;5;28mself\u001b[39m\u001b[38;5;241m.\u001b[39mn_jobs)\n",
            "File \u001b[0;32m/anaconda/envs/azureml_py38/lib/python3.10/site-packages/sklearn/ensemble/_forest.py:641\u001b[0m, in \u001b[0;36mBaseForest._validate_X_predict\u001b[0;34m(self, X)\u001b[0m\n\u001b[1;32m    638\u001b[0m \u001b[38;5;28;01melse\u001b[39;00m:\n\u001b[1;32m    639\u001b[0m     force_all_finite \u001b[38;5;241m=\u001b[39m \u001b[38;5;28;01mTrue\u001b[39;00m\n\u001b[0;32m--> 641\u001b[0m X \u001b[38;5;241m=\u001b[39m \u001b[38;5;28;43mself\u001b[39;49m\u001b[38;5;241;43m.\u001b[39;49m\u001b[43m_validate_data\u001b[49m\u001b[43m(\u001b[49m\n\u001b[1;32m    642\u001b[0m \u001b[43m    \u001b[49m\u001b[43mX\u001b[49m\u001b[43m,\u001b[49m\n\u001b[1;32m    643\u001b[0m \u001b[43m    \u001b[49m\u001b[43mdtype\u001b[49m\u001b[38;5;241;43m=\u001b[39;49m\u001b[43mDTYPE\u001b[49m\u001b[43m,\u001b[49m\n\u001b[1;32m    644\u001b[0m \u001b[43m    \u001b[49m\u001b[43maccept_sparse\u001b[49m\u001b[38;5;241;43m=\u001b[39;49m\u001b[38;5;124;43m\"\u001b[39;49m\u001b[38;5;124;43mcsr\u001b[39;49m\u001b[38;5;124;43m\"\u001b[39;49m\u001b[43m,\u001b[49m\n\u001b[1;32m    645\u001b[0m \u001b[43m    \u001b[49m\u001b[43mreset\u001b[49m\u001b[38;5;241;43m=\u001b[39;49m\u001b[38;5;28;43;01mFalse\u001b[39;49;00m\u001b[43m,\u001b[49m\n\u001b[1;32m    646\u001b[0m \u001b[43m    \u001b[49m\u001b[43mforce_all_finite\u001b[49m\u001b[38;5;241;43m=\u001b[39;49m\u001b[43mforce_all_finite\u001b[49m\u001b[43m,\u001b[49m\n\u001b[1;32m    647\u001b[0m \u001b[43m\u001b[49m\u001b[43m)\u001b[49m\n\u001b[1;32m    648\u001b[0m \u001b[38;5;28;01mif\u001b[39;00m issparse(X) \u001b[38;5;129;01mand\u001b[39;00m (X\u001b[38;5;241m.\u001b[39mindices\u001b[38;5;241m.\u001b[39mdtype \u001b[38;5;241m!=\u001b[39m np\u001b[38;5;241m.\u001b[39mintc \u001b[38;5;129;01mor\u001b[39;00m X\u001b[38;5;241m.\u001b[39mindptr\u001b[38;5;241m.\u001b[39mdtype \u001b[38;5;241m!=\u001b[39m np\u001b[38;5;241m.\u001b[39mintc):\n\u001b[1;32m    649\u001b[0m     \u001b[38;5;28;01mraise\u001b[39;00m \u001b[38;5;167;01mValueError\u001b[39;00m(\u001b[38;5;124m\"\u001b[39m\u001b[38;5;124mNo support for np.int64 index based sparse matrices\u001b[39m\u001b[38;5;124m\"\u001b[39m)\n",
            "File \u001b[0;32m/anaconda/envs/azureml_py38/lib/python3.10/site-packages/sklearn/base.py:608\u001b[0m, in \u001b[0;36mBaseEstimator._validate_data\u001b[0;34m(self, X, y, reset, validate_separately, cast_to_ndarray, **check_params)\u001b[0m\n\u001b[1;32m    537\u001b[0m \u001b[38;5;28;01mdef\u001b[39;00m \u001b[38;5;21m_validate_data\u001b[39m(\n\u001b[1;32m    538\u001b[0m     \u001b[38;5;28mself\u001b[39m,\n\u001b[1;32m    539\u001b[0m     X\u001b[38;5;241m=\u001b[39m\u001b[38;5;124m\"\u001b[39m\u001b[38;5;124mno_validation\u001b[39m\u001b[38;5;124m\"\u001b[39m,\n\u001b[0;32m   (...)\u001b[0m\n\u001b[1;32m    544\u001b[0m     \u001b[38;5;241m*\u001b[39m\u001b[38;5;241m*\u001b[39mcheck_params,\n\u001b[1;32m    545\u001b[0m ):\n\u001b[1;32m    546\u001b[0m \u001b[38;5;250m    \u001b[39m\u001b[38;5;124;03m\"\"\"Validate input data and set or check the `n_features_in_` attribute.\u001b[39;00m\n\u001b[1;32m    547\u001b[0m \n\u001b[1;32m    548\u001b[0m \u001b[38;5;124;03m    Parameters\u001b[39;00m\n\u001b[0;32m   (...)\u001b[0m\n\u001b[1;32m    606\u001b[0m \u001b[38;5;124;03m        validated.\u001b[39;00m\n\u001b[1;32m    607\u001b[0m \u001b[38;5;124;03m    \"\"\"\u001b[39;00m\n\u001b[0;32m--> 608\u001b[0m     \u001b[38;5;28;43mself\u001b[39;49m\u001b[38;5;241;43m.\u001b[39;49m\u001b[43m_check_feature_names\u001b[49m\u001b[43m(\u001b[49m\u001b[43mX\u001b[49m\u001b[43m,\u001b[49m\u001b[43m \u001b[49m\u001b[43mreset\u001b[49m\u001b[38;5;241;43m=\u001b[39;49m\u001b[43mreset\u001b[49m\u001b[43m)\u001b[49m\n\u001b[1;32m    610\u001b[0m     \u001b[38;5;28;01mif\u001b[39;00m y \u001b[38;5;129;01mis\u001b[39;00m \u001b[38;5;28;01mNone\u001b[39;00m \u001b[38;5;129;01mand\u001b[39;00m \u001b[38;5;28mself\u001b[39m\u001b[38;5;241m.\u001b[39m_get_tags()[\u001b[38;5;124m\"\u001b[39m\u001b[38;5;124mrequires_y\u001b[39m\u001b[38;5;124m\"\u001b[39m]:\n\u001b[1;32m    611\u001b[0m         \u001b[38;5;28;01mraise\u001b[39;00m \u001b[38;5;167;01mValueError\u001b[39;00m(\n\u001b[1;32m    612\u001b[0m             \u001b[38;5;124mf\u001b[39m\u001b[38;5;124m\"\u001b[39m\u001b[38;5;124mThis \u001b[39m\u001b[38;5;132;01m{\u001b[39;00m\u001b[38;5;28mself\u001b[39m\u001b[38;5;241m.\u001b[39m\u001b[38;5;18m__class__\u001b[39m\u001b[38;5;241m.\u001b[39m\u001b[38;5;18m__name__\u001b[39m\u001b[38;5;132;01m}\u001b[39;00m\u001b[38;5;124m estimator \u001b[39m\u001b[38;5;124m\"\u001b[39m\n\u001b[1;32m    613\u001b[0m             \u001b[38;5;124m\"\u001b[39m\u001b[38;5;124mrequires y to be passed, but the target y is None.\u001b[39m\u001b[38;5;124m\"\u001b[39m\n\u001b[1;32m    614\u001b[0m         )\n",
            "File \u001b[0;32m/anaconda/envs/azureml_py38/lib/python3.10/site-packages/sklearn/base.py:535\u001b[0m, in \u001b[0;36mBaseEstimator._check_feature_names\u001b[0;34m(self, X, reset)\u001b[0m\n\u001b[1;32m    530\u001b[0m \u001b[38;5;28;01mif\u001b[39;00m \u001b[38;5;129;01mnot\u001b[39;00m missing_names \u001b[38;5;129;01mand\u001b[39;00m \u001b[38;5;129;01mnot\u001b[39;00m unexpected_names:\n\u001b[1;32m    531\u001b[0m     message \u001b[38;5;241m+\u001b[39m\u001b[38;5;241m=\u001b[39m (\n\u001b[1;32m    532\u001b[0m         \u001b[38;5;124m\"\u001b[39m\u001b[38;5;124mFeature names must be in the same order as they were in fit.\u001b[39m\u001b[38;5;130;01m\\n\u001b[39;00m\u001b[38;5;124m\"\u001b[39m\n\u001b[1;32m    533\u001b[0m     )\n\u001b[0;32m--> 535\u001b[0m \u001b[38;5;28;01mraise\u001b[39;00m \u001b[38;5;167;01mValueError\u001b[39;00m(message)\n",
            "\u001b[0;31mValueError\u001b[0m: The feature names should match those that were passed during fit.\nFeature names unseen at fit time:\n- Humidity\n- Rainfall\n- Temperature\n- pH\nFeature names seen at fit time, yet now missing:\n- humidity\n- ph\n- rainfall\n- temperature\n"
          ]
        }
      ],
      "execution_count": 9,
      "metadata": {
        "jupyter": {
          "source_hidden": false,
          "outputs_hidden": false
        },
        "nteract": {
          "transient": {
            "deleting": false
          }
        },
        "gather": {
          "logged": 1730497475548
        }
      }
    },
    {
      "cell_type": "code",
      "source": [
        "joblib.dump(modelo_cultivo, 'modelo_cultivo.pkl')\n",
        "\n",
        "# Para cargar el modelo posteriormente\n",
        "# modelo_cultivo = joblib.load('modelo_cultivo.pkl')\n"
      ],
      "outputs": [
        {
          "output_type": "execute_result",
          "execution_count": 10,
          "data": {
            "text/plain": "['modelo_cultivo.pkl']"
          },
          "metadata": {}
        }
      ],
      "execution_count": 10,
      "metadata": {
        "jupyter": {
          "source_hidden": false,
          "outputs_hidden": false
        },
        "nteract": {
          "transient": {
            "deleting": false
          }
        },
        "gather": {
          "logged": 1730481413766
        }
      }
    },
    {
      "cell_type": "code",
      "source": [
        "import pandas as pd\n",
        "from sklearn.ensemble import RandomForestClassifier\n",
        "\n",
        "# Cargar el modelo ya entrenado\n",
        "# modelo_cultivo = joblib.load('modelo_cultivo.pkl')  # Descomentar si es necesario\n",
        "\n",
        "# Simulación de datos de entrada (un solo conjunto de valores)\n",
        "data_prueba = {\n",
        "    'N': [80],               # Nitrógeno\n",
        "    'P': [40],               # Fósforo\n",
        "    'K': [20],               # Potasio\n",
        "    'temperature': [25],     # Temperatura en grados Celsius\n",
        "    'humidity': [75],        # Humedad en porcentaje\n",
        "    'ph': [6.5],             # pH del suelo\n",
        "    'rainfall': [120]        # Lluvia en mm\n",
        "}\n",
        "\n",
        "# Crear un DataFrame a partir de los datos de prueba\n",
        "df_prueba = pd.DataFrame(data_prueba)\n",
        "\n",
        "# Realizar las predicciones\n",
        "simulacion_predicciones = modelo_cultivo.predict(df_prueba)\n",
        "\n",
        "# Obtener las probabilidades de predicción para cada clase\n",
        "probs = modelo_cultivo.predict_proba(df_prueba)\n",
        "\n",
        "# Crear un DataFrame para las probabilidades y los cultivos\n",
        "df_probs = pd.DataFrame(probs, columns=modelo_cultivo.classes_)\n",
        "\n",
        "# Obtener las 10 mejores opciones basadas en la máxima probabilidad\n",
        "top_n = 10\n",
        "mejores_opciones = df_probs.iloc[0].nlargest(top_n).reset_index()\n",
        "mejores_opciones.columns = ['Recommended Crop', 'Probability']\n",
        "\n",
        "# Redondear las probabilidades para mejor visualización\n",
        "mejores_opciones['Probability'] = mejores_opciones['Probability'].round(4)\n",
        "\n",
        "# Ordenar por probabilidad de éxito\n",
        "mejores_opciones = mejores_opciones.sort_values(by='Probability', ascending=False)\n",
        "\n",
        "# Mostrar los resultados con los datos de cultivo\n",
        "resultados = pd.DataFrame({\n",
        "    'N': df_prueba['N'].repeat(top_n).values,\n",
        "    'P': df_prueba['P'].repeat(top_n).values,\n",
        "    'K': df_prueba['K'].repeat(top_n).values,\n",
        "    'Temperature': df_prueba['temperature'].repeat(top_n).values,\n",
        "    'Humidity': df_prueba['humidity'].repeat(top_n).values,\n",
        "    'pH': df_prueba['ph'].repeat(top_n).values,\n",
        "    'Rainfall': df_prueba['rainfall'].repeat(top_n).values,\n",
        "    'Recommended Crop': mejores_opciones['Recommended Crop'].values,\n",
        "    'Probability': mejores_opciones['Probability'].values\n",
        "})\n",
        "\n",
        "# Imprimir solo las recomendaciones de cultivos (simulación) en orden del mejor al peor\n",
        "print(\"Resultados de las recomendaciones de cultivos:\")\n",
        "print(resultados[['Recommended Crop', 'N', 'P', 'K', 'Temperature', 'Humidity', 'pH', 'Rainfall', 'Probability']])"
      ],
      "outputs": [
        {
          "output_type": "stream",
          "name": "stdout",
          "text": "Resultados de las recomendaciones de cultivos:\n  Recommended Crop   N   P   K  Temperature  Humidity   pH  Rainfall  \\\n0            maize  80  40  20           25        75  6.5       120   \n1           cotton  80  40  20           25        75  6.5       120   \n2             jute  80  40  20           25        75  6.5       120   \n3           coffee  80  40  20           25        75  6.5       120   \n4       pigeonpeas  80  40  20           25        75  6.5       120   \n5           banana  80  40  20           25        75  6.5       120   \n6           orange  80  40  20           25        75  6.5       120   \n7           papaya  80  40  20           25        75  6.5       120   \n8            apple  80  40  20           25        75  6.5       120   \n9        blackgram  80  40  20           25        75  6.5       120   \n\n   Probability  \n0         0.51  \n1         0.26  \n2         0.12  \n3         0.06  \n4         0.02  \n5         0.01  \n6         0.01  \n7         0.01  \n8         0.00  \n9         0.00  \n"
        }
      ],
      "execution_count": 5,
      "metadata": {
        "jupyter": {
          "source_hidden": false,
          "outputs_hidden": false
        },
        "nteract": {
          "transient": {
            "deleting": false
          }
        },
        "gather": {
          "logged": 1730482716933
        }
      }
    }
  ],
  "metadata": {
    "kernelspec": {
      "name": "python38-azureml",
      "language": "python",
      "display_name": "Python 3.8 - AzureML"
    },
    "language_info": {
      "name": "python",
      "version": "3.10.11",
      "mimetype": "text/x-python",
      "codemirror_mode": {
        "name": "ipython",
        "version": 3
      },
      "pygments_lexer": "ipython3",
      "nbconvert_exporter": "python",
      "file_extension": ".py"
    },
    "microsoft": {
      "ms_spell_check": {
        "ms_spell_check_language": "en"
      },
      "host": {
        "AzureML": {
          "notebookHasBeenCompleted": true
        }
      }
    },
    "kernel_info": {
      "name": "python38-azureml"
    },
    "nteract": {
      "version": "nteract-front-end@1.0.0"
    }
  },
  "nbformat": 4,
  "nbformat_minor": 2
}